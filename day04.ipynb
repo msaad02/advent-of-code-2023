{
 "cells": [
  {
   "cell_type": "code",
   "execution_count": 78,
   "metadata": {},
   "outputs": [
    {
     "name": "stdout",
     "output_type": "stream",
     "text": [
      "33950\n"
     ]
    }
   ],
   "source": [
    "import re\n",
    "with open(\"data/day04.txt\", \"r\") as f:\n",
    "    data = f.read().splitlines()\n",
    "\n",
    "data = [row.split(': ')[1].strip() for row in data]\n",
    "data = [re.sub('  ', ' ', row) for row in data]\n",
    "data = [data.split(\" | \") for data in data]\n",
    "data = [[a.split(' '), b.split(' ')] for a, b in data]\n",
    "data = [[number in wins for number in numbers] for wins, numbers in data]\n",
    "data = [sum(row) for row in data]\n",
    "points_deduction = [0.5 if val == 0 else 0 for val in data]\n",
    "data = [2**(num-1) for num in data]\n",
    "data = [int(data - deduct) for data, deduct in zip(data, points_deduction)]\n",
    "\n",
    "print(sum(data)) # Awnser"
   ]
  },
  {
   "cell_type": "code",
   "execution_count": 84,
   "metadata": {},
   "outputs": [
    {
     "name": "stdout",
     "output_type": "stream",
     "text": [
      "33950\n"
     ]
    }
   ],
   "source": [
    "# One liner for giggles\n",
    "print(sum([int(data - deduct) for data, deduct in zip([2**(num-1) for num in [sum(row) for row in [[number in wins for number in numbers] for wins, numbers in [[a.split(' '), b.split(' ')] for a, b in [data.split(\" | \") for data in [re.sub('  ', ' ', row) for row in [row.split(': ')[1].strip() for row in open(\"data/day04.txt\", \"r\").read().splitlines()]]]]]]], [0.5 if val == 0 else 0 for val in [sum(row) for row in [[number in wins for number in numbers] for wins, numbers in [[a.split(' '), b.split(' ')] for a, b in [data.split(\" | \") for data in [re.sub('  ', ' ', row) for row in [row.split(': ')[1].strip() for row in open(\"data/day04.txt\", \"r\").read().splitlines()]]]]]]])]))"
   ]
  },
  {
   "cell_type": "code",
   "execution_count": null,
   "metadata": {},
   "outputs": [],
   "source": []
  }
 ],
 "metadata": {
  "kernelspec": {
   "display_name": "thesis",
   "language": "python",
   "name": "python3"
  },
  "language_info": {
   "codemirror_mode": {
    "name": "ipython",
    "version": 3
   },
   "file_extension": ".py",
   "mimetype": "text/x-python",
   "name": "python",
   "nbconvert_exporter": "python",
   "pygments_lexer": "ipython3",
   "version": "3.11.4"
  }
 },
 "nbformat": 4,
 "nbformat_minor": 2
}
