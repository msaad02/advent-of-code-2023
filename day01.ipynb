{
 "cells": [
  {
   "cell_type": "code",
   "execution_count": 133,
   "metadata": {},
   "outputs": [],
   "source": [
    "import re\n",
    "\n",
    "with open('data/day01.txt', 'r') as f:\n",
    "    data = f.readlines()\n",
    "\n",
    "# Remove trailing whitespace\n",
    "data = [data.strip() for data in data]"
   ]
  },
  {
   "cell_type": "code",
   "execution_count": 134,
   "metadata": {},
   "outputs": [],
   "source": [
    "total = 0\n",
    "for row in data:\n",
    "    chars = list(row)\n",
    "    int_list = []\n",
    "\n",
    "    for char in chars:\n",
    "        if char.isnumeric():\n",
    "            int_list.append(int(char))\n",
    "\n",
    "    num = int_list[0] * 10 + int_list[-1]\n",
    "    total = total + num"
   ]
  },
  {
   "cell_type": "code",
   "execution_count": 135,
   "metadata": {},
   "outputs": [
    {
     "name": "stdout",
     "output_type": "stream",
     "text": [
      "55477\n"
     ]
    }
   ],
   "source": [
    "print(total)"
   ]
  },
  {
   "cell_type": "markdown",
   "metadata": {},
   "source": [
    "# Part 2"
   ]
  },
  {
   "cell_type": "code",
   "execution_count": 136,
   "metadata": {},
   "outputs": [],
   "source": [
    "# data = ['two1nine',\n",
    "# 'eightwothree',\n",
    "# 'abcone2threexyz',\n",
    "# 'xtwone3four',\n",
    "# '4nineeightseven2',\n",
    "# 'zoneight234',\n",
    "# '7pqrstsixteen']"
   ]
  },
  {
   "cell_type": "code",
   "execution_count": 137,
   "metadata": {},
   "outputs": [],
   "source": [
    "num_str = {'one': 1, 'two': 2, 'three': 3, 'four': 4, 'five': 5, 'six': 6, 'seven': 7, 'eight': 8, 'nine': 9}\n",
    "total = 0\n",
    "for row in data:\n",
    "    char_str = row[0]\n",
    "    nums_ordered = []\n",
    "    last_end = 0\n",
    "    for i in range(0,len(row)+1):\n",
    "        try:\n",
    "            if row[i].isnumeric():\n",
    "                nums_ordered.append(int(row[i]))\n",
    "                char_str = row[i:i+1]\n",
    "                last_end = i\n",
    "                continue\n",
    "        except:\n",
    "            oopsies = True\n",
    "        \n",
    "        test_list = [num_str[num] for num in num_str.keys() if num in char_str]\n",
    "        \n",
    "        if len(test_list) != 0:\n",
    "            nums_ordered.append(test_list[0])\n",
    "            char_str = row[i:i+1]\n",
    "            last_end = i\n",
    "        else:\n",
    "            char_str = row[last_end:i+1]\n",
    "\n",
    "    # print(row, nums_ordered)\n",
    "    num = 10*nums_ordered[0] + nums_ordered[-1]\n",
    "    total = total + num"
   ]
  },
  {
   "cell_type": "code",
   "execution_count": 138,
   "metadata": {},
   "outputs": [
    {
     "name": "stdout",
     "output_type": "stream",
     "text": [
      "54814\n"
     ]
    }
   ],
   "source": [
    "print(total)"
   ]
  }
 ],
 "metadata": {
  "kernelspec": {
   "display_name": "thesis",
   "language": "python",
   "name": "python3"
  },
  "language_info": {
   "codemirror_mode": {
    "name": "ipython",
    "version": 3
   },
   "file_extension": ".py",
   "mimetype": "text/x-python",
   "name": "python",
   "nbconvert_exporter": "python",
   "pygments_lexer": "ipython3",
   "version": "3.10.0"
  }
 },
 "nbformat": 4,
 "nbformat_minor": 2
}
