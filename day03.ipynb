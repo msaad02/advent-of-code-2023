{
 "cells": [
  {
   "cell_type": "markdown",
   "metadata": {},
   "source": [
    "# Part 1\n",
    "\n",
    "The engine schematic (your puzzle input) consists of a visual representation of the engine. There are lots of numbers and symbols you don't really understand, but apparently any number adjacent to a symbol, even diagonally, is a \"part number\" and should be included in your sum. (Periods (.) do not count as a symbol.)\n",
    "\n",
    "Here is an example engine schematic:\n",
    "\n",
    "```\n",
    "467..114..\n",
    "...*......\n",
    "..35..633.\n",
    "......#...\n",
    "617*......\n",
    ".....+.58.\n",
    "..592.....\n",
    "......755.\n",
    "...$.*....\n",
    ".664.598..\n",
    "```\n",
    "\n",
    "\n",
    "In this schematic, two numbers are not part numbers because they are not adjacent to a symbol: 114 (top right) and 58 (middle right). Every other number is adjacent to a symbol and so is a part number; their sum is 4361.\n",
    "\n",
    "Of course, the actual engine schematic is much larger. What is the sum of all of the part numbers in the engine schematic?"
   ]
  },
  {
   "cell_type": "code",
   "execution_count": 2,
   "metadata": {},
   "outputs": [],
   "source": [
    "with open(\"data/day03.txt\", \"r\") as f:\n",
    "    data = f.read().splitlines()"
   ]
  },
  {
   "cell_type": "code",
   "execution_count": 3,
   "metadata": {},
   "outputs": [],
   "source": [
    "# retreiving numbers themselves and their ids\n",
    "row_dict = {}\n",
    "for i, row in zip(range(len(data)), data):\n",
    "    row_list = list(row)\n",
    "    number_end = 0\n",
    "    number_in_row_dict = list()\n",
    "\n",
    "    for j,  element in zip(range(len(row)), row_list):\n",
    "        if j < number_end:\n",
    "            continue\n",
    "        if element.isnumeric():\n",
    "            number_start = j\n",
    "            number_end = j + 1\n",
    "            \n",
    "            while number_end < len(row_list):\n",
    "                if row_list[number_end].isnumeric():\n",
    "                    number_end += 1\n",
    "                else:\n",
    "                    break\n",
    "\n",
    "            number_in_row_dict.append({'start': number_start, 'end': number_end, 'number': int(''.join(row_list[number_start:number_end]))})\n",
    "    row_dict[i] = number_in_row_dict"
   ]
  },
  {
   "cell_type": "code",
   "execution_count": 4,
   "metadata": {},
   "outputs": [
    {
     "data": {
      "text/plain": [
       "[{'start': 9, 'end': 12, 'number': 798},\n",
       " {'start': 15, 'end': 18, 'number': 145},\n",
       " {'start': 27, 'end': 30, 'number': 629},\n",
       " {'start': 34, 'end': 37, 'number': 579},\n",
       " {'start': 42, 'end': 45, 'number': 455},\n",
       " {'start': 66, 'end': 69, 'number': 130},\n",
       " {'start': 82, 'end': 85, 'number': 243},\n",
       " {'start': 102, 'end': 105, 'number': 154},\n",
       " {'start': 113, 'end': 116, 'number': 167}]"
      ]
     },
     "execution_count": 4,
     "metadata": {},
     "output_type": "execute_result"
    }
   ],
   "source": [
    "row_dict[0]"
   ]
  },
  {
   "cell_type": "code",
   "execution_count": 5,
   "metadata": {},
   "outputs": [
    {
     "name": "stdout",
     "output_type": "stream",
     "text": [
      "520135\n"
     ]
    }
   ],
   "source": [
    "# checking if there are symbols around the number\n",
    "import re\n",
    "total = 0\n",
    "for k, v in row_dict.items():\n",
    "    for number in v:\n",
    "        if number['start'] == 0:\n",
    "            start_check = 0\n",
    "        else:\n",
    "            start_check = number['start'] - 1\n",
    "        \n",
    "        if number['end'] == 140:\n",
    "            end_check = 140\n",
    "        else:\n",
    "            end_check = number['end'] + 1\n",
    "\n",
    "        if k == 0:\n",
    "            row_check = range(k, k+2)\n",
    "        elif k == 139:\n",
    "            row_check = range(k-1, k+1)\n",
    "        else:\n",
    "            row_check = range(k-1, k+2)\n",
    "\n",
    "        part_number = False\n",
    "        for row in row_check:\n",
    "            for char in list(data[row][start_check:end_check]):\n",
    "                if char.isnumeric():\n",
    "                    continue\n",
    "                elif char != '.':\n",
    "                    part_number = True\n",
    "                    break\n",
    "\n",
    "            if part_number:\n",
    "                total += number['number']\n",
    "                break\n",
    "\n",
    "print(total)"
   ]
  },
  {
   "cell_type": "markdown",
   "metadata": {},
   "source": [
    "# Part 2"
   ]
  },
  {
   "cell_type": "code",
   "execution_count": 6,
   "metadata": {},
   "outputs": [
    {
     "name": "stdout",
     "output_type": "stream",
     "text": [
      "72514855\n"
     ]
    }
   ],
   "source": [
    "# checking if there are symbols around the number\n",
    "gear_locations = []\n",
    "total = 0\n",
    "for k, v in row_dict.items():\n",
    "    for number in v:\n",
    "        if number['start'] == 0:\n",
    "            start_check = 0\n",
    "        else:\n",
    "            start_check = number['start'] - 1\n",
    "        \n",
    "        if number['end'] == 140:\n",
    "            end_check = 140\n",
    "        else:\n",
    "            end_check = number['end'] + 1\n",
    "\n",
    "        if k == 0:\n",
    "            row_check = range(k, k+2)\n",
    "        elif k == 139:\n",
    "            row_check = range(k-1, k+1)\n",
    "        else:\n",
    "            row_check = range(k-1, k+2)\n",
    "\n",
    "        part_number = False\n",
    "        for row_idx in row_check:\n",
    "            for char_idx in range(start_check, end_check):\n",
    "                char = data[row_idx][char_idx]\n",
    "                \n",
    "                if char == '*':\n",
    "                    gear_locations.append([row_idx, char_idx, number['number']])\n",
    "\n",
    "gear_dict = {}\n",
    "total = 0\n",
    "for i, j, num in gear_locations:\n",
    "    name = 'x'.join([str(i),str(j)])\n",
    "    try:\n",
    "        total += gear_dict[name] * num\n",
    "    except:\n",
    "        gear_dict[name] = num\n",
    "\n",
    "print(total)"
   ]
  }
 ],
 "metadata": {
  "kernelspec": {
   "display_name": "thesis",
   "language": "python",
   "name": "python3"
  },
  "language_info": {
   "codemirror_mode": {
    "name": "ipython",
    "version": 3
   },
   "file_extension": ".py",
   "mimetype": "text/x-python",
   "name": "python",
   "nbconvert_exporter": "python",
   "pygments_lexer": "ipython3",
   "version": "3.11.4"
  }
 },
 "nbformat": 4,
 "nbformat_minor": 2
}
