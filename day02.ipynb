{
 "cells": [
  {
   "cell_type": "code",
   "execution_count": 125,
   "metadata": {},
   "outputs": [
    {
     "data": {
      "text/plain": [
       "['Game 1: 5 red, 1 green, 2 blue; 2 green, 8 blue, 6 red; 8 red, 3 blue, 2 green; 6 red, 1 green, 19 blue; 1 red, 17 blue\\n',\n",
       " 'Game 2: 4 red, 5 green, 2 blue; 7 red, 14 green, 3 blue; 2 green, 5 blue, 11 red; 10 blue, 3 green; 9 green, 6 blue, 13 red; 7 red, 5 green, 9 blue\\n']"
      ]
     },
     "execution_count": 125,
     "metadata": {},
     "output_type": "execute_result"
    }
   ],
   "source": [
    "import re\n",
    "\n",
    "with open(\"data/day02.txt\", \"r\") as f:\n",
    "    data = f.readlines()\n",
    "\n",
    "data[0:2]"
   ]
  },
  {
   "cell_type": "code",
   "execution_count": 118,
   "metadata": {},
   "outputs": [],
   "source": [
    "# Convert this to a dictionary where key is index and value is the ball info\n",
    "dict_version = {k: re.sub(\"^Game [0-9]+: \", \"\", v).strip() for k, v in zip(range(1, len(data)), data)}"
   ]
  },
  {
   "cell_type": "code",
   "execution_count": 119,
   "metadata": {},
   "outputs": [],
   "source": [
    "# Splitting it by set\n",
    "for k, v in dict_version.items():\n",
    "    dict_version[k] = v.split(\"; \")"
   ]
  },
  {
   "cell_type": "code",
   "execution_count": 120,
   "metadata": {},
   "outputs": [],
   "source": [
    "# Split the sets by draw\n",
    "for k, v in dict_version.items():\n",
    "    for i in range(len(v)):\n",
    "        dict_version[k][i] = dict_version[k][i].split(\", \")"
   ]
  },
  {
   "cell_type": "code",
   "execution_count": 121,
   "metadata": {},
   "outputs": [],
   "source": [
    "def count_colors(set: list):\n",
    "    red = 0\n",
    "    green = 0\n",
    "    blue = 0\n",
    "\n",
    "    for i in set:\n",
    "        num_color_list = i.split(\" \")\n",
    "        number = num_color_list[0]\n",
    "        color = num_color_list[1]\n",
    "\n",
    "        if color == \"red\":\n",
    "            red += int(number)\n",
    "        elif color == \"green\":\n",
    "            green += int(number)\n",
    "        elif color == \"blue\":\n",
    "            blue += int(number)\n",
    "\n",
    "    return (red, green, blue)"
   ]
  },
  {
   "cell_type": "code",
   "execution_count": 131,
   "metadata": {},
   "outputs": [
    {
     "name": "stdout",
     "output_type": "stream",
     "text": [
      "2617\n"
     ]
    }
   ],
   "source": [
    "total = 0\n",
    "for k, v in dict_version.items():\n",
    "    candidate = True\n",
    "    for set in v:\n",
    "        r,g,b = count_colors(set)\n",
    "        if r > 12 or g > 13 or b > 14:\n",
    "            candidate = False\n",
    "    \n",
    "    if candidate:\n",
    "        total += k\n",
    "\n",
    "print(total)"
   ]
  }
 ],
 "metadata": {
  "kernelspec": {
   "display_name": "thesis",
   "language": "python",
   "name": "python3"
  },
  "language_info": {
   "codemirror_mode": {
    "name": "ipython",
    "version": 3
   },
   "file_extension": ".py",
   "mimetype": "text/x-python",
   "name": "python",
   "nbconvert_exporter": "python",
   "pygments_lexer": "ipython3",
   "version": "3.10.0"
  }
 },
 "nbformat": 4,
 "nbformat_minor": 2
}
