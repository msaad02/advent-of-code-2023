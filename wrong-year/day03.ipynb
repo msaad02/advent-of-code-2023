{
 "cells": [
  {
   "cell_type": "code",
   "execution_count": 43,
   "metadata": {},
   "outputs": [],
   "source": [
    "with open(\"data/day03.txt\", \"r\") as f:\n",
    "    data = f.readlines()\n",
    "\n",
    "data = list(data[0])"
   ]
  },
  {
   "cell_type": "code",
   "execution_count": 46,
   "metadata": {},
   "outputs": [],
   "source": [
    "santa = data[::2]\n",
    "robo_santa = data[1::2]"
   ]
  },
  {
   "cell_type": "code",
   "execution_count": 47,
   "metadata": {},
   "outputs": [
    {
     "name": "stdout",
     "output_type": "stream",
     "text": [
      "2341\n"
     ]
    }
   ],
   "source": [
    "x,y,a,b = 0,0,0,0\n",
    "houses_visited = {(x,y)}\n",
    "for santa, robo in zip(santa, robo_santa):\n",
    "    if santa == \"<\":\n",
    "        x += 1\n",
    "    elif santa == \">\":\n",
    "        x -= 1\n",
    "    elif santa == \"^\":\n",
    "        y += 1\n",
    "    elif santa == \"v\":\n",
    "        y -= 1\n",
    "\n",
    "    if robo == \"<\":\n",
    "        a += 1\n",
    "    elif robo == \">\":\n",
    "        a -= 1\n",
    "    elif robo == \"^\":\n",
    "        b += 1\n",
    "    elif robo == \"v\":\n",
    "        b -= 1\n",
    "    santa_coords = (x,y)\n",
    "    robo_coords = (a,b)\n",
    "    houses_visited.add(santa_coords)\n",
    "    houses_visited.add(robo_coords)\n",
    "\n",
    "print(len(houses_visited))"
   ]
  },
  {
   "cell_type": "code",
   "execution_count": 21,
   "metadata": {},
   "outputs": [
    {
     "data": {
      "text/plain": [
       "{(-1, 0), (-1, 1), (0, 0), (0, 1)}"
      ]
     },
     "execution_count": 21,
     "metadata": {},
     "output_type": "execute_result"
    }
   ],
   "source": [
    "houses_visited"
   ]
  }
 ],
 "metadata": {
  "kernelspec": {
   "display_name": "thesis",
   "language": "python",
   "name": "python3"
  },
  "language_info": {
   "codemirror_mode": {
    "name": "ipython",
    "version": 3
   },
   "file_extension": ".py",
   "mimetype": "text/x-python",
   "name": "python",
   "nbconvert_exporter": "python",
   "pygments_lexer": "ipython3",
   "version": "3.10.0"
  }
 },
 "nbformat": 4,
 "nbformat_minor": 2
}
