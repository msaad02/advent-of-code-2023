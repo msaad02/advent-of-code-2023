{
 "cells": [
  {
   "cell_type": "code",
   "execution_count": 6,
   "metadata": {},
   "outputs": [
    {
     "name": "stdout",
     "output_type": "stream",
     "text": [
      "f1e06\n"
     ]
    }
   ],
   "source": [
    "import hashlib\n",
    " \n",
    "# encoding GeeksforGeeks using md5 hash\n",
    "result = hashlib.md5(b'GeeksforGeeks')\n",
    " \n",
    "# printing the equivalent byte value.\n",
    "print(result.hexdigest()[:5])"
   ]
  },
  {
   "cell_type": "code",
   "execution_count": 14,
   "metadata": {},
   "outputs": [
    {
     "name": "stdout",
     "output_type": "stream",
     "text": [
      "117946\n"
     ]
    }
   ],
   "source": [
    "secret_key = \"ckczppom\" # it's not actually a secret...\n",
    "\n",
    "for i in range(0,9999999):\n",
    "    key = secret_key + str(i)\n",
    "    \n",
    "    result = hashlib.md5(key.encode())\n",
    "    hex = result.hexdigest()\n",
    "\n",
    "    if hex.startswith('0'):\n",
    "        first_five = hex[:5]\n",
    "        not_here = False\n",
    "        for char in first_five:\n",
    "            if not_here:\n",
    "                continue\n",
    "            if char != '0':\n",
    "                not_here = True\n",
    "        if not not_here:\n",
    "            print(i)\n",
    "            break\n"
   ]
  },
  {
   "cell_type": "markdown",
   "metadata": {},
   "source": [
    "For part 2, that asks for the first 6 hex to be 0, then you just change `first_five = hex[:5]` to `first_five = hex[:6]`"
   ]
  }
 ],
 "metadata": {
  "kernelspec": {
   "display_name": "thesis",
   "language": "python",
   "name": "python3"
  },
  "language_info": {
   "codemirror_mode": {
    "name": "ipython",
    "version": 3
   },
   "file_extension": ".py",
   "mimetype": "text/x-python",
   "name": "python",
   "nbconvert_exporter": "python",
   "pygments_lexer": "ipython3",
   "version": "3.10.0"
  }
 },
 "nbformat": 4,
 "nbformat_minor": 2
}
